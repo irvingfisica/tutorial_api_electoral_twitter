{
 "metadata": {
  "language_info": {
   "codemirror_mode": {
    "name": "ipython",
    "version": 3
   },
   "file_extension": ".py",
   "mimetype": "text/x-python",
   "name": "python",
   "nbconvert_exporter": "python",
   "pygments_lexer": "ipython3",
   "version": "3.8.3"
  },
  "orig_nbformat": 2,
  "kernelspec": {
   "name": "python38364bit8b05b50623d74818adb889c7076a9c33",
   "display_name": "Python 3.8.3 64-bit"
  },
  "metadata": {
   "interpreter": {
    "hash": "1cb3cfc3c90597d48c107db9d8c653276fae30f40e2c32cbca1e75709fc8e51a"
   }
  }
 },
 "nbformat": 4,
 "nbformat_minor": 2,
 "cells": [
  {
   "source": [
    "# Obteniendo datos de twitter de candidatos\n",
    "\n",
    "Recientemente [SocialTic](https://socialtic.org/) liberó [API Candidaturas MX](https://socialtic.org/blog/api-candidaturas-mx/), una API para obtener información de ~2,500 candidatos que participarán en las elecciones mexicanas de 2021. La API cuenta con información de candidatos a diputaciones federals, gubernaturas y presidencias municipales. En este documento jugamos un poco con la API y a manera de tutorial mostramos como se puede consumir desde Python y cruzar sus datos con datos obtenidos a partir de Twitter.\n",
    "\n",
    "Para seguir este tutorial es necesario que vayas siguiendo el código en un Notebook de jupyter (este tutorial no hablará de como instalar jupyter ni de como echarlo a andar, pero puedes seguir [este tutorial](https://github.com/irvingfisica/covid-bokeh) y aprender un poco de análisis de datos y graficación en python). Además necesitaras obtener un token de consulta para la API de SocialTic y un token de consulta para la API de twitter. Además haremos manejo de JSONs y crearemos algunas funciones en python, por lo tanto el tutorial asume que sabes un poco de Python. Si hay alguna instrucción que no entiendes no dudes en preguntarme por MD en mi cuenta de Twitter: [@moaimx](https://twitter.com/moaimx)."
   ],
   "cell_type": "markdown",
   "metadata": {}
  },
  {
   "source": [
    "## Obteniendo un token para la API Candidaturas MX\n",
    "\n",
    "El primer paso para poder jugar con los datos es obtener un token para tener acceso a la API Candidaturas MX. Para ello tenemos que ingresar en la página de la [API](https://www.apielectoral.mx/) y seguir las instrucciones para obtener un token. Tendras que crear un usuario en la plataforma y acceder con estas credenciales. Una vez que ingresamos el sistema nos dará un token válido por 4 horas. ESta cadena de texto será la que ocuparemos para hacer peticiones a la API. \n",
    "\n",
    "![token](./s1.png)"
   ],
   "cell_type": "markdown",
   "metadata": {}
  },
  {
   "source": [
    "Para hacer peticiones a la API utilizaremos la librería 'requests' y para poder escribir nuestros datos y leerlos en un futuro usaremos la librería 'json':"
   ],
   "cell_type": "markdown",
   "metadata": {}
  },
  {
   "cell_type": "code",
   "execution_count": 1,
   "metadata": {},
   "outputs": [],
   "source": [
    "import requests \n",
    "import json "
   ]
  },
  {
   "source": [
    "Necesitamos guardar nuestro id_token en una variable. Ya que esto es un tutorial lo haremos directamente en el notebook, sin embargo esta no es la mejor práctica en cuanto a seguridad pues si alguien más tiene acceso a tu notebook podría usar tu token sin tu consentimiento, existen otras maneras de manejar tus tokens, por ejemplo guardarlos como 'enviroment variables' en tu sistema y consumirlas usando la librería 'os'."
   ],
   "cell_type": "markdown",
   "metadata": {}
  },
  {
   "cell_type": "code",
   "execution_count": null,
   "metadata": {},
   "outputs": [],
   "source": [
    "token_id = \"COPIA AQUÍ TU TOKEN_ID\""
   ]
  },
  {
   "source": [
    "Ya que tenemos un token_id ilsto necesitamos pensar que tipo de peticiones haremos a la API. La API tiene un montòn de endpoints con informaciòn ùtil. Usaremos el endpoint 'export' que de acuerdo a la pàgina de instrucciones de la API nos da acceso a *Toda la informaciòn*. Si copiamos el enlace al que hace referencia la pàgina de instrucciones de la API podemos obtener la direcciòn del endpoint:"
   ],
   "cell_type": "markdown",
   "metadata": {}
  },
  {
   "cell_type": "code",
   "execution_count": 8,
   "metadata": {},
   "outputs": [],
   "source": [
    "endpoint = 'https://e7f1hlosbh.execute-api.us-east-2.amazonaws.com/staging/export'"
   ]
  },
  {
   "source": [
    "Obtendremos los datos del endpoint a traves de una peticiòn de tipo *GET* para lo cual necesitamos construir un header con nuestro *token_id* en el campo 'Authorization'"
   ],
   "cell_type": "markdown",
   "metadata": {}
  },
  {
   "cell_type": "code",
   "execution_count": 10,
   "metadata": {},
   "outputs": [],
   "source": [
    "headers = {'Authorization': token_id}"
   ]
  },
  {
   "source": [
    "Con este header ya podemos hacer la peticiòn:"
   ],
   "cell_type": "markdown",
   "metadata": {}
  },
  {
   "cell_type": "code",
   "execution_count": 11,
   "metadata": {},
   "outputs": [],
   "source": [
    "r = requests.get(endpoint, headers=headers)"
   ]
  },
  {
   "source": [
    "Para checar si nuestra peticiòn se completò de forma correcta podemos checar el còdigo de status que fue respondido, si el còdigo es '200' la peticiòn se ha resuelto de forma satisfactoria:"
   ],
   "cell_type": "markdown",
   "metadata": {}
  },
  {
   "cell_type": "code",
   "execution_count": 13,
   "metadata": {},
   "outputs": [
    {
     "output_type": "stream",
     "name": "stdout",
     "text": [
      "200\n"
     ]
    }
   ],
   "source": [
    "print(r.status_code)"
   ]
  },
  {
   "source": [
    "Asociemos la respuesta de la peticiòn a una variable para que podamos jugar con ellos..."
   ],
   "cell_type": "markdown",
   "metadata": {}
  },
  {
   "cell_type": "code",
   "execution_count": 14,
   "metadata": {},
   "outputs": [],
   "source": [
    "datos = r.json()"
   ]
  },
  {
   "source": [
    "Tambièn podemos guardar los datos en un archivo de tipo JSON para que podamos usar estos datos despuès sin tener que hacer una nueva peticiòn:"
   ],
   "cell_type": "markdown",
   "metadata": {}
  },
  {
   "cell_type": "code",
   "execution_count": 15,
   "metadata": {},
   "outputs": [],
   "source": [
    "with open('./datos_api.json', 'w') as outfile:\n",
    "    json.dump(datos, outfile, indent=4, sort_keys=True)"
   ]
  },
  {
   "source": [
    "Una vez que tenemos nuestros datos podemos entonces empezar a explorarlos y a jugar con ellos. La respuesta de la peticiòn es un JSON que la librerìa requests se encarga de convertir en un dict de python. Primero checaremos que *llaves* tienen nuestros datos:"
   ],
   "cell_type": "markdown",
   "metadata": {}
  },
  {
   "cell_type": "code",
   "execution_count": 17,
   "metadata": {},
   "outputs": [
    {
     "output_type": "execute_result",
     "data": {
      "text/plain": [
       "dict_keys(['areas', 'chambers', 'coalitions', 'contests', 'memberships', 'other-names', 'parties', 'person-professions', 'persons', 'professions', 'roles', 'urls'])"
      ]
     },
     "metadata": {},
     "execution_count": 17
    }
   ],
   "source": [
    "datos.keys()"
   ]
  },
  {
   "source": [
    "Podemos observar que estas *llaves* se corresponden con los diferentes endpoints accesibles en la página de instrucciones de la API:\n",
    "\n",
    "- 'persons': Personas\n",
    "- 'memberships': Adscripciones políticas\n",
    "- 'contests': Contiendas políticas\n",
    "- 'parties': Partidos políticos\n",
    "- 'coalitions': Coaliciones\n",
    "- 'areas': Áreas\n",
    "- 'chambers': Cámaras\n",
    "- 'roles': Roles\n",
    "- 'other-names': Otros nombres por persona \n",
    "- 'person-professions': Profesiones por persona \n",
    "- 'professions': Profesiones \n",
    "- 'urls': URLs\n",
    "\n",
    "Con lo cual efectivamente el endpoint que seleccionamos tiene acceso a todos los datos de la API"
   ],
   "cell_type": "markdown",
   "metadata": {}
  },
  {
   "source": [
    "Exploremos el campo 'persons'. Podemos ver que contiene una lista y que además tiene 2566 registros:"
   ],
   "cell_type": "markdown",
   "metadata": {}
  },
  {
   "cell_type": "code",
   "execution_count": 20,
   "metadata": {},
   "outputs": [
    {
     "output_type": "execute_result",
     "data": {
      "text/plain": [
       "list"
      ]
     },
     "metadata": {},
     "execution_count": 20
    }
   ],
   "source": [
    "type(datos['persons'])"
   ]
  },
  {
   "cell_type": "code",
   "execution_count": 21,
   "metadata": {},
   "outputs": [
    {
     "output_type": "execute_result",
     "data": {
      "text/plain": [
       "2566"
      ]
     },
     "metadata": {},
     "execution_count": 21
    }
   ],
   "source": [
    "len(datos['persons'])"
   ]
  },
  {
   "source": [
    "Si exploramos el primer registro podemos ver que cada registro contiene la información de un candidato:"
   ],
   "cell_type": "markdown",
   "metadata": {}
  },
  {
   "cell_type": "code",
   "execution_count": 40,
   "metadata": {},
   "outputs": [
    {
     "output_type": "execute_result",
     "data": {
      "text/plain": [
       "{'contest_id': 301,\n",
       " 'date_birth': '1967-09-06',\n",
       " 'dead_or_alive': True,\n",
       " 'fb_urls': [{'note': 'campaign',\n",
       "   'url': 'https://www.facebook.com/LupitaJonesOficial'}],\n",
       " 'first_name': {'en_US': 'María Guadalupe', 'es_MX': 'María Guadalupe'},\n",
       " 'full_name': {'en_US': 'María Guadalupe Jones Garay',\n",
       "  'es_MX': 'María Guadalupe Jones Garay'},\n",
       " 'gender': 'F',\n",
       " 'id': 3,\n",
       " 'ig_urls': [{'note': 'campaign',\n",
       "   'url': 'https://www.instagram.com/lupjones'}],\n",
       " 'last_degree_of_studies': 'MASTER DEGREE',\n",
       " 'last_name': {'en_US': 'Jones Garay', 'es_MX': 'Jones Garay'},\n",
       " 'other_names': {'ballot_name': [],\n",
       "  'nickname': [{'en_US': 'Lupita Jones'}, {'es_MX': 'Lupita Jones'}],\n",
       "  'preferred_name': []},\n",
       " 'photo_urls': ['https://scontent.fmex10-4.fna.fbcdn.net/v/t1.6435-9/182714447_312887933537451_3350126348236012989_n.jpg?_nc_cat=1&ccb=1-3&_nc_sid=09cbfe&_nc_eui2=AeHwyYtq5t7Ik03MSCDhzG-EYKvTvUNUrKhgq9O9Q1SsqK58DA_Ktm0AGdzLKVwmlma8axpvHBarSbxaS6hUDsm7&_nc_ohc=SPD2HH4SLI0AX8pNugX&_nc_ht=scontent.fmex10-4.fna&oh=0dfb0584f4394d419ff317a3f3f759f2&oe=60C1F709'],\n",
       " 'professions': ['Arts, multidisciplinary or general programs',\n",
       "  'Business administration and management',\n",
       "  'Literature'],\n",
       " 'social_network_accounts': [{'type': 'Twitter',\n",
       "   'value': 'https://www.twitter.com/LupJonesof'}],\n",
       " 'websites': []}"
      ]
     },
     "metadata": {},
     "execution_count": 40
    }
   ],
   "source": [
    "datos['persons'][2]"
   ]
  },
  {
   "source": [
    "Hay muchos datos interesantes, por ejemplo el último grado de estudios o las profesiones con las que cuenta cada candidato. Para este tutorial nos concentraremos en el campo 'social_network_accounts' que como podemos observar contiene una lista cuyos elementos son otro dict. Cada elemento está asociado a una cuenta de redes sociales perteneciente al candidato. En particular nos interesa la cuenta de twitter. En particular este campo tiene la url asociada a la cuenta de la persona de la cual podemos obtener el nombre de usuario que será nuestro acceso a los datos de la cuenta. \n",
    "\n",
    "Para obtener los datos de twitter asociados a la cuenta usaremos la API de twitter. Para usar esta API es necesario tener una cuenta en twitter y darnos de alta para el programa de developers. Esto se puede hacer en [este enlace](https://developer.twitter.com/en/apply-for-access). El proceso para darse de alta como developer dura aproximadamente una semana, en el te preguntarán para que quieres acceso a la API, para que la utilizarás. Es importante que seas explícito en el tipo de uso que le darás a la API y que estes completamente seguro que el uso que le darás no viola los términos y condiciones de la plataforma. En el proceso de darse de alta puede ser que alguien de Twitter te escriba un mail preguntando algunas cosas puntuales del uso que pretendes darle a tu aplicación. \n",
    "\n",
    "En mi caso el proceso fue rápido pero involucró rebotar un par de correos con ellos. Quizá te desanimes al ver que este proceso es necesario, sin embargo una vez que tu aplicación es aprobada puedes jugar con la API de twitter y con sus datos. Acá dejo un [tutorial](https://dev.to/sumedhpatkar/beginners-guide-how-to-apply-for-a-twitter-developer-account-1kh7) donde explican algunos detalles del proceso.\n",
    "\n",
    "UNa vez que tengas acceso a la plataforma de developer de twitter tendrás que crear un 'project' y crear una 'app' en el. También puedes crear 'apps' fuera de un proyecto, sin embargo por ahora estas apps no tienen acceso a la versión 2.0 de la API de twitter. Acá encuentras toda la [información para crear un proyecto y una app en el](https://developer.twitter.com/en/docs/projects/overview).\n",
    "\n",
    "Una vez que tienes creada tu app tienes que dirigirte a la sección de 'keys and tokens' para obtener un 'bearer token'. Lo copiaremos y guardaremos en una variable para poder usarlo. Como mencioné anteriormente, esta no es la mejor práctica en cuanto a seguridad y no deberías de dejar tu token en el notebook, especialmente si piensas compartirlo de alguna manera."
   ],
   "cell_type": "markdown",
   "metadata": {}
  },
  {
   "cell_type": "code",
   "execution_count": null,
   "metadata": {},
   "outputs": [],
   "source": [
    "bearer_token = 'COPIA AQUÏ EL BEARER_TOKEN DE TU APP'"
   ]
  },
  {
   "source": [
    "De manera similar a como lo hicimos con la API de datos electorales haremos requests a la API de twitter para obtener información de las cuentas que nos interesan. Para esto necesitamos crear el header que acompañará nuestras peticiones. En el agregaremos nuestro token para poder identificarnos con la API."
   ],
   "cell_type": "markdown",
   "metadata": {}
  },
  {
   "cell_type": "code",
   "execution_count": 26,
   "metadata": {},
   "outputs": [],
   "source": [
    "twitter_header = {\"Authorization\": \"Bearer {}\".format(bearer_token)}"
   ]
  },
  {
   "source": [
    "Para poder obtener información acerca de un usuario de twitter con su API necesitamos usar el endpoint ['User lookup'](https://developer.twitter.com/en/docs/twitter-api/users/lookup/introduction). Este endpoint nos permite obtener información de cuentas de twitter. En particular usaremos el endpoint específico para ibtener info de usuarios de tiwtter identificandolos a traves de su nombre de usuario. Puedes encontrar la documentación [aquí](https://developer.twitter.com/en/docs/twitter-api/users/lookup/api-reference/get-users-by).\n",
    "\n",
    "El endpoint soporta peticiones de hasta 100 usuarios en una misma petición, sin embargo tiene un límite de peticiones de hasta 300 por cada 15 minutos o 900 si nos identificamos a traves de un token de usuario y no de un token de app. La url del endpoint es 'https://api.twitter.com/2/users/by' y debe de llevar como parámetro los nombres de usuarios de los cuales queremos obtener la información separados por comas. Como primera prueba usaremos el nombre de usuario de una sola persona en nuestra lista de personas: 'LupJonesof'\n",
    "\n"
   ],
   "cell_type": "markdown",
   "metadata": {}
  },
  {
   "cell_type": "code",
   "execution_count": 41,
   "metadata": {},
   "outputs": [],
   "source": [
    "user_url = 'https://api.twitter.com/2/users/by'\n",
    "user_params = {'usernames':'LupJonesof'}"
   ]
  },
  {
   "source": [
    "Una vez que hemos construido el header y los parametros a utilizar podemos realizar nuestra petición a traves de la librería 'requests'. La petición será una petición de tipo GET."
   ],
   "cell_type": "markdown",
   "metadata": {}
  },
  {
   "cell_type": "code",
   "execution_count": 42,
   "metadata": {},
   "outputs": [],
   "source": [
    "rtw = requests.request(\"GET\", user_url, headers=twitter_header, params=user_params)"
   ]
  },
  {
   "cell_type": "code",
   "execution_count": 43,
   "metadata": {},
   "outputs": [
    {
     "output_type": "stream",
     "name": "stdout",
     "text": [
      "200\n"
     ]
    }
   ],
   "source": [
    "print(rtw.status_code)"
   ]
  },
  {
   "source": [
    "Si exploramos que datos fueron regresados en la petición podemos ver que solamente obtuvimos el nombre del usuario, su id y el suername que utilizamos para realizar la petición. "
   ],
   "cell_type": "markdown",
   "metadata": {}
  },
  {
   "cell_type": "code",
   "execution_count": 44,
   "metadata": {},
   "outputs": [
    {
     "output_type": "execute_result",
     "data": {
      "text/plain": [
       "{'data': [{'id': '111468543',\n",
       "   'name': 'Lupita Jones',\n",
       "   'username': 'LupJonesof'}]}"
      ]
     },
     "metadata": {},
     "execution_count": 44
    }
   ],
   "source": [
    "rtw.json()"
   ]
  },
  {
   "source": [
    "Sin embargo el endpoint es capaz de proporcionarnos muchos más datos asociados a una cuenta de twitter, solamente hay que pedirselos. En específico se pueden pedir dos tipos de datos, datos asociados a la cuenta y expansiones, en este caso la única expansión disponible es información del tweet 'pinneado' en el perfil si es que existe. Para este tweet se puede pedir información.\n",
    "\n",
    "Con respecto a la información del usuario podemos pedir:\n",
    "- la fecha de creación con el parámetro 'created-at'\n",
    "- la descripción de la cuenta con 'description'\n",
    "- entidades encontradas en el texto por twitter con siginificados especiales con el parámetro 'entities'\n",
    "- el id de la cuenta con el parámetro 'id' (este es muy importante si pensamos obtener posteriormente más datos del usuario como por ejemplo tweets de su timeline)\n",
    "- el lugar asociado a la cuenta con el parámetro 'location'\n",
    "- el nombre del usuario con 'name'\n",
    "- el id del tweet pinneado con 'pinned-tweet-id'\n",
    "- una URL con acceso a la imágen asociada al perfil con 'profile-image-url'\n",
    "- si el usuario ha protegido sus tweets o no con 'protected'\n",
    "- las métricas públicas de la cuenta como followers, following y tweets emitidos con 'public_metrics'\n",
    "- la URL que el usuario ha asociado a su cuenta con 'url'\n",
    "- el nombre del usuario con 'username'\n",
    "- si la cuenta está verificada o no con 'verified'\n",
    "\n",
    "Con respecto a la información del tweet pinneado podemos pedir:\n",
    "- los objetos adjuntos al tweet, por ejemplo encuestas o imágenes con 'attachments'\n",
    "- el id del autor con 'author_id'\n",
    "- anotaciones de contexto encontradas por twitter en el texto del tweet, por ejemplo lugares, personas o marcas con 'context_annotations'\n",
    "- el id de la conversación a la que pertenece el tweet con 'conversation_id'\n",
    "- la fecha de creación del tweet con 'created_at'\n",
    "- entidades encontradas en el texto por twitter con siginificados especiales con el parámetro 'entities'\n",
    "- la información geográfica del tweet con 'geo'\n",
    "- el id del tweet con 'id'\n",
    "- el usuario al cual se le respondió en el tweet si es que este es una respuesta con 'in_reply_to_user_id'\n",
    "- el idioma del tweet con 'lang'\n",
    "- algunas métricas públicas del tweet con 'public_metrics' (también es posible obtener métricas no públicas si eres dueño del tweet)\n",
    "- si el tweet está catalogado como portador potencial de contenido sensible con 'possibly_sensitive'\n",
    "- los tweets a los que hace referencia con 'referenced_tweets'\n",
    "- las propiedades de respuesta del tweet con 'replay_settings'\n",
    "- la aplicación con la cual se emitió el tweet con 'source'\n",
    "- el texto del tweet con 'text'\n",
    "\n",
    "Como podemos ver la API da acceso a un montón de información, en este ejmplo pediremos toda la información possible. Para eso tenemos que modificar nuestra variable de parámetros. Para pedir el tweet pinneado usamos el campo 'expansions' con el valor 'pinned_tweet_id', para pedir datos de usuario usamos el campo 'user.fields' con un valor igual a una cadena que contiene todos los parámetros que nos gustaría obtener separados por comas y sin espacios entre ellos. De manera similar para pedir datos del tweet pinneado usamos el campo 'tweet.fields' con una cadena con los parámetros requeridos como valor:"
   ],
   "cell_type": "markdown",
   "metadata": {}
  },
  {
   "cell_type": "code",
   "execution_count": 66,
   "metadata": {},
   "outputs": [],
   "source": [
    "usernames = ['LupJonesof']\n",
    "expansions = ['pinned_tweet_id']\n",
    "tweet_fields = ['attachments',\n",
    "                'author_id',\n",
    "                'context_annotations',\n",
    "                'conversation_id',\n",
    "                'created_at',\n",
    "                'entities',\n",
    "                'geo',\n",
    "                'id',\n",
    "                'in_reply_to_user_id',\n",
    "                'lang',\n",
    "                'public_metrics',\n",
    "                'possibly_sensitive',\n",
    "                'referenced_tweets',\n",
    "                'reply_settings',\n",
    "                'source,text']\n",
    "user_fields = ['created_at',\n",
    "               'description',\n",
    "               'entities',\n",
    "               'id',\n",
    "               'location',\n",
    "               'name',\n",
    "               'pinned_tweet_id',\n",
    "               'profile_image_url',\n",
    "               'protected',\n",
    "               'public_metrics',\n",
    "               'url',\n",
    "               'username',\n",
    "               'verified']"
   ]
  },
  {
   "cell_type": "code",
   "execution_count": 67,
   "metadata": {},
   "outputs": [],
   "source": [
    "usernames_param = ','.join(usernames)\n",
    "expansions_param = ','.join(expansions)\n",
    "tweet_params = ','.join(tweet_fields)\n",
    "user_params = ','.join(user_fields)"
   ]
  },
  {
   "cell_type": "code",
   "execution_count": 68,
   "metadata": {},
   "outputs": [],
   "source": [
    "parametros = {'usernames':usernames_param,\n",
    "        \"expansions\": expansions_param,\n",
    "        \"tweet.fields\": tweet_params,\n",
    "        \"user.fields\": user_params}"
   ]
  },
  {
   "source": [
    "y volvemos a hacer nuestra petición con estos nuevos parámetros:"
   ],
   "cell_type": "markdown",
   "metadata": {}
  },
  {
   "cell_type": "code",
   "execution_count": 69,
   "metadata": {},
   "outputs": [],
   "source": [
    "rtw = requests.request(\"GET\", user_url, headers=twitter_header, params=parametros)"
   ]
  },
  {
   "cell_type": "code",
   "execution_count": 70,
   "metadata": {},
   "outputs": [
    {
     "output_type": "stream",
     "name": "stdout",
     "text": [
      "200\n"
     ]
    }
   ],
   "source": [
    "print(rtw.status_code)"
   ]
  },
  {
   "source": [
    "Al explorar la respuesta de nuestra petición podemos observar que esta tiene dos campos, el campo 'data' y el campo 'includes'. Los datos de los usuarios estarán en 'data' y los datos de los tweets asociados estarán en 'includes' en el subcampo 'tweets':"
   ],
   "cell_type": "markdown",
   "metadata": {}
  },
  {
   "cell_type": "code",
   "execution_count": 71,
   "metadata": {},
   "outputs": [
    {
     "output_type": "execute_result",
     "data": {
      "text/plain": [
       "dict_keys(['data', 'includes'])"
      ]
     },
     "metadata": {},
     "execution_count": 71
    }
   ],
   "source": [
    "rtw.json().keys()"
   ]
  },
  {
   "cell_type": "code",
   "execution_count": 72,
   "metadata": {},
   "outputs": [
    {
     "output_type": "execute_result",
     "data": {
      "text/plain": [
       "[{'profile_image_url': 'https://pbs.twimg.com/profile_images/1378604052532101120/nKkwP19z_normal.jpg',\n",
       "  'name': 'Lupita Jones',\n",
       "  'description': 'Orgullosa cachanilla, candidata  a la gubernatura de Baja California por la coalición “Va por Baja California”.',\n",
       "  'url': '',\n",
       "  'pinned_tweet_id': '1384017997635809281',\n",
       "  'created_at': '2010-02-05T01:27:17.000Z',\n",
       "  'protected': False,\n",
       "  'verified': True,\n",
       "  'id': '111468543',\n",
       "  'public_metrics': {'followers_count': 160976,\n",
       "   'following_count': 292,\n",
       "   'tweet_count': 21818,\n",
       "   'listed_count': 337},\n",
       "  'username': 'LupJonesof'}]"
      ]
     },
     "metadata": {},
     "execution_count": 72
    }
   ],
   "source": [
    "datos_usuario = rtw.json()['data'] \n",
    "datos_usuario"
   ]
  },
  {
   "cell_type": "code",
   "execution_count": 73,
   "metadata": {},
   "outputs": [
    {
     "output_type": "execute_result",
     "data": {
      "text/plain": [
       "[{'created_at': '2021-04-19T05:36:19.000Z',\n",
       "  'author_id': '111468543',\n",
       "  'entities': {'urls': [{'start': 280,\n",
       "     'end': 303,\n",
       "     'url': 'https://t.co/RcRYs8sXqx',\n",
       "     'expanded_url': 'https://twitter.com/LupJonesof/status/1384017997635809281/video/1',\n",
       "     'display_url': 'pic.twitter.com/RcRYs8sXqx'}],\n",
       "   'annotations': [{'start': 165,\n",
       "     'end': 172,\n",
       "     'probability': 0.9764,\n",
       "     'type': 'Place',\n",
       "     'normalized_text': 'Mexicali'}],\n",
       "   'hashtags': [{'start': 240, 'end': 253, 'tag': 'EstadoModelo'},\n",
       "    {'start': 255, 'end': 264, 'tag': 'BCVota21'},\n",
       "    {'start': 265, 'end': 279, 'tag': 'DebatesBC2021'}]},\n",
       "  'lang': 'es',\n",
       "  'text': 'El próximo 6 de junio tienes 3 opciones: votar por un candidato que no sabemos si tiene buenas o malas intenciones, elegir a una candidata que dejó en el abandono a Mexicali; o votar por mí, una ciudadana que, de tu mano, va a construir un #EstadoModelo. #BCVota21 #DebatesBC2021 https://t.co/RcRYs8sXqx',\n",
       "  'id': '1384017997635809281',\n",
       "  'possibly_sensitive': False,\n",
       "  'public_metrics': {'retweet_count': 112,\n",
       "   'reply_count': 166,\n",
       "   'like_count': 273,\n",
       "   'quote_count': 10},\n",
       "  'reply_settings': 'everyone',\n",
       "  'source': 'Twitter for iPhone',\n",
       "  'conversation_id': '1384017997635809281',\n",
       "  'attachments': {'media_keys': ['7_1384017876823068687']}}]"
      ]
     },
     "metadata": {},
     "execution_count": 73
    }
   ],
   "source": [
    "datos_tweet = rtw.json()['includes']['tweets']\n",
    "datos_tweet"
   ]
  },
  {
   "source": [
    "Para poder obtener los datos de todas las candidatas y candidatos necesitamos hacer peticiones para todos ellos. Primero necesitamos saber cuales de ellos tienen una cuenta de twitter asociada en la información que obtuvimos de la API electoral. Analicemos de nuevo la info que tenemos de cada persona"
   ],
   "cell_type": "markdown",
   "metadata": {}
  },
  {
   "cell_type": "code",
   "execution_count": 74,
   "metadata": {},
   "outputs": [
    {
     "output_type": "execute_result",
     "data": {
      "text/plain": [
       "{'contest_id': 301,\n",
       " 'date_birth': '1967-09-06',\n",
       " 'dead_or_alive': True,\n",
       " 'fb_urls': [{'note': 'campaign',\n",
       "   'url': 'https://www.facebook.com/LupitaJonesOficial'}],\n",
       " 'first_name': {'en_US': 'María Guadalupe', 'es_MX': 'María Guadalupe'},\n",
       " 'full_name': {'en_US': 'María Guadalupe Jones Garay',\n",
       "  'es_MX': 'María Guadalupe Jones Garay'},\n",
       " 'gender': 'F',\n",
       " 'id': 3,\n",
       " 'ig_urls': [{'note': 'campaign',\n",
       "   'url': 'https://www.instagram.com/lupjones'}],\n",
       " 'last_degree_of_studies': 'MASTER DEGREE',\n",
       " 'last_name': {'en_US': 'Jones Garay', 'es_MX': 'Jones Garay'},\n",
       " 'other_names': {'ballot_name': [],\n",
       "  'nickname': [{'en_US': 'Lupita Jones'}, {'es_MX': 'Lupita Jones'}],\n",
       "  'preferred_name': []},\n",
       " 'photo_urls': ['https://scontent.fmex10-4.fna.fbcdn.net/v/t1.6435-9/182714447_312887933537451_3350126348236012989_n.jpg?_nc_cat=1&ccb=1-3&_nc_sid=09cbfe&_nc_eui2=AeHwyYtq5t7Ik03MSCDhzG-EYKvTvUNUrKhgq9O9Q1SsqK58DA_Ktm0AGdzLKVwmlma8axpvHBarSbxaS6hUDsm7&_nc_ohc=SPD2HH4SLI0AX8pNugX&_nc_ht=scontent.fmex10-4.fna&oh=0dfb0584f4394d419ff317a3f3f759f2&oe=60C1F709'],\n",
       " 'professions': ['Arts, multidisciplinary or general programs',\n",
       "  'Business administration and management',\n",
       "  'Literature'],\n",
       " 'social_network_accounts': [{'type': 'Twitter',\n",
       "   'value': 'https://www.twitter.com/LupJonesof'}],\n",
       " 'websites': []}"
      ]
     },
     "metadata": {},
     "execution_count": 74
    }
   ],
   "source": [
    "datos['persons'][2]"
   ]
  },
  {
   "source": [
    "Como mencionamos anteriormente el campo que nos interesa es 'social_network_accounts' en específico cuando este campo contiene una entrada correspondiente a una cuenta de Twitter. Al realizar este tutorial noté que algunas de las entradas que tienen 'type' igual a 'Twitter' tienen URLs correspondientes a otras redes sociales (esto quizá ya está corregido en la actualización de datos de la API electoral), debido a esto lo mejor es detectar la información de una cuenta de twitter a traves de la URL y no del tipo de cuenta. Hagamos una función que tenga como entrada la información de una persona y nos regrese el nombre de usuario de twitter de la persona en caso de existir. En caso de no existir nuestra función deberá regresar 'None'. Primero checaremos si el campo 'social_network_accounts' existe y luego filtraremos su contenido para obtener una cuenta de twitter en caso de que exista. Despues usaremos la URL asociada para obtener el nombre de usuario. Escribamos la función y luego la explicamos paso a paso:"
   ],
   "cell_type": "markdown",
   "metadata": {}
  },
  {
   "cell_type": "code",
   "execution_count": 75,
   "metadata": {},
   "outputs": [],
   "source": [
    "def usuario_twitter(datos_persona):\n",
    "    if datos_persona.get('social_network_accounts'):\n",
    "        cuentas_redes = datos_persona['social_network_accounts']\n",
    "        cuentas_de_twitter = list(filter(lambda x: x.get('value').find('twitter.com') != -1,cuentas_redes))\n",
    "        if len(cuentas_de_twitter) >= 1:\n",
    "            url = cuentas_de_twitter[0]['value']\n",
    "            extra_pos = url.find('?')\n",
    "            if extra_pos == -1:\n",
    "                username = url.split('/')[-1].strip()\n",
    "            else:\n",
    "                urlb = url[:extra_pos]\n",
    "                username = urlb.split('/')[-1].strip()\n",
    "            return username\n",
    "        else:\n",
    "            return None\n",
    "    else:\n",
    "        return None"
   ]
  },
  {
   "source": [
    "La función recibe como entrada los datos de una persona, el primer paso es checar que el campo 'social_network_accounts' exista. Si no existe nuestra función regresa 'None' inmediatamente. \n",
    "\n",
    "En aquellos casos en donde exista el campo entonces suponemos que contendrá una lista con la información de cada una de las cuentas de redes sociales de la persona (tendríamos que checar esto realmente, pero no lo haremos). \n",
    "\n",
    "Sobre esta lista podemos ejecutar un filtro usando una función lambda que devuelva solamente aquellos elementos de la lista para los cuales el campo 'value' contiene la cadena 'twitter.com'. \n",
    "\n",
    "Si la longitud de la lista filtrada es mayor o igual a uno, es decir, si se encontró al menos un elemento que pertenezca a una cuenta de twitter entonces obtenemos la url de ese elemento, la url se encuentra guardada en el campo 'value'. \n",
    "\n",
    "La estrategía a seguir para conseguir el nombre será partir esta URL en pedazos separados por el caracter '/' y tomar el último como el correspondiente al nombre de usuario. Sin embargo antes debemos considerar el caso de que la URL podría tener parámetros asociados que estorben en nuestra estrategía, por ejemplo me encontré algunos con info del idioma de la cuenta. Para quitar estos parámetros antes buscaremos en la URL el caracter '?' y si lo encontramos entonces usaremos su posición para filtrar la URL tomando únicamente la parte de la cadena que se encuentra antes del caracter '?'.\n",
    "\n",
    "Por último regresamos el pedazo de cadena correspondiente al nombre de usuario."
   ],
   "cell_type": "markdown",
   "metadata": {}
  },
  {
   "source": [
    "Probando nuestra función con datos de una persona que si tiene asociada una cuenta de twitter obtenemos su nombre de usuario"
   ],
   "cell_type": "markdown",
   "metadata": {}
  },
  {
   "cell_type": "code",
   "execution_count": 81,
   "metadata": {},
   "outputs": [
    {
     "output_type": "execute_result",
     "data": {
      "text/plain": [
       "'Jorge_HankRhon'"
      ]
     },
     "metadata": {},
     "execution_count": 81
    }
   ],
   "source": [
    "usuario_twitter(datos['persons'][4])"
   ]
  },
  {
   "source": [
    "Probando nuestra función con datos de una persona que no tiene asociada una cuenta de twitter ontenemos None"
   ],
   "cell_type": "markdown",
   "metadata": {}
  },
  {
   "cell_type": "code",
   "execution_count": 82,
   "metadata": {},
   "outputs": [],
   "source": [
    "usuario_twitter(datos['persons'][1])"
   ]
  },
  {
   "source": [
    "Ahora podemos iterar sobre todas las personas de la API electoral y obtener los nombres de usuario en los casos en los cuales existan. para cada una de las personas con un nombre de usuario válido guardaremos el id de la persona (id de la API electoral para después poder emparentar esta info con los datos de la API) y el nombre de usuario de twitter."
   ],
   "cell_type": "markdown",
   "metadata": {}
  },
  {
   "cell_type": "code",
   "execution_count": 83,
   "metadata": {},
   "outputs": [],
   "source": [
    "personas_en_twitter = []\n",
    "for persona in datos['persons']:\n",
    "    username = usuario_twitter(persona)\n",
    "    if username is not None:\n",
    "        personas_en_twitter.append({'id':persona['id'], 'twitter_username':username})"
   ]
  },
  {
   "source": [
    "Después de ejecutar este ciclo podemos ver que tenemos 1084 personas con cuenta de twitter."
   ],
   "cell_type": "markdown",
   "metadata": {}
  },
  {
   "cell_type": "code",
   "execution_count": 85,
   "metadata": {},
   "outputs": [
    {
     "output_type": "execute_result",
     "data": {
      "text/plain": [
       "1084"
      ]
     },
     "metadata": {},
     "execution_count": 85
    }
   ],
   "source": [
    "len(personas_en_twitter)"
   ]
  },
  {
   "source": [
    "Podríamos hacer una petición a la API de twitter por cada una de estas personas, sin embargo la API de twitter tiene la capacidad de pedir datos de hasta 100 usuarios en la misma petición. Para poder hacer una petición de varios usuarios es necesario agregar los nombres de usuario de todos los usuarios deseados en los parámetros de la petición. hagamos una función que nos permita estar creando el dict de parámetros para diferentes usuarios. Nuestra función recibirá listas de parámetros y construira el dict necesario con los parámetros de la petición."
   ],
   "cell_type": "markdown",
   "metadata": {}
  },
  {
   "cell_type": "code",
   "execution_count": 154,
   "metadata": {},
   "outputs": [],
   "source": [
    "def crear_parametros(usernames, expansions, tweet_fields, user_fields):\n",
    "    usernames_param = ','.join(usernames)\n",
    "    expansions_param = ','.join(expansions)\n",
    "    tweet_params = ','.join(tweet_fields)\n",
    "    user_params = ','.join(user_fields)\n",
    "    return {'usernames':usernames_param,\n",
    "        \"expansions\": expansions_param,\n",
    "        \"tweet.fields\": tweet_params,\n",
    "        \"user.fields\": user_params}"
   ]
  },
  {
   "source": [
    "Algunas de estas listas ya las habíamos construido previamente, probemos nuestra función:"
   ],
   "cell_type": "markdown",
   "metadata": {}
  },
  {
   "cell_type": "code",
   "execution_count": 155,
   "metadata": {},
   "outputs": [
    {
     "output_type": "execute_result",
     "data": {
      "text/plain": [
       "{'usernames': 'LupJonesof',\n",
       " 'expansions': 'pinned_tweet_id',\n",
       " 'tweet.fields': 'attachments,author_id,context_annotations,conversation_id,created_at,entities,geo,id,in_reply_to_user_id,lang,public_metrics,possibly_sensitive,referenced_tweets,reply_settings,source,text',\n",
       " 'user.fields': 'created_at,description,entities,id,location,name,pinned_tweet_id,profile_image_url,protected,public_metrics,url,username,verified'}"
      ]
     },
     "metadata": {},
     "execution_count": 155
    }
   ],
   "source": [
    "crear_parametros(usernames,expansions,tweet_fields,user_fields)"
   ]
  },
  {
   "source": [
    "Ahora necesitamos tomar todos los nombres de usuario y agruparlos en conjuntos de máximo 100 usuarios para entonces poder generar las listas de usuario y realizar las peticiones. Usaremos un ciclo sobre un rango que va desde 0 hasta el número de usuarios con username en intervalos de 100 para poder tomar trozos de la lista de personas con nombre de usuario y sobre estos trozos ejecutaremos un map para obtener los nombres de usuario en una lista. Estas listas a su vez las guardaremos en otra lista donde acumularemos los grupos de nombres de usuario"
   ],
   "cell_type": "markdown",
   "metadata": {}
  },
  {
   "cell_type": "code",
   "execution_count": 156,
   "metadata": {},
   "outputs": [],
   "source": [
    "grupos_de_usuarios = []\n",
    "for i in range(0,len(personas_en_twitter),100):\n",
    "    user_names = list(map(lambda x: x['twitter_username'],personas_en_twitter[i:i+100]))\n",
    "    grupos_de_usuarios.append(user_names)"
   ]
  },
  {
   "source": [
    "Si exploramos el primer elemento de esta lista de listas podemos observar que guarda 100 nombres de usuario"
   ],
   "cell_type": "markdown",
   "metadata": {}
  },
  {
   "cell_type": "code",
   "execution_count": 157,
   "metadata": {},
   "outputs": [
    {
     "output_type": "execute_result",
     "data": {
      "text/plain": [
       "['MarinadelPilar',\n",
       " 'LupJonesof',\n",
       " 'atilanocarlosmx',\n",
       " 'Jorge_HankRhon',\n",
       " 'VictorCastroCos',\n",
       " 'PanchoPelayoC',\n",
       " 'jArmidaCastro',\n",
       " 'DraAndreaGeiger',\n",
       " 'GAL280306',\n",
       " 'AleLageSuarez',\n",
       " 'adonai_carreon',\n",
       " 'ManuelGoberBCS',\n",
       " 'chriscastrob',\n",
       " 'LaydaSansores',\n",
       " 'EliseoFdzM',\n",
       " 'brendariosverde',\n",
       " 'MaruCampos_G',\n",
       " 'alejandrodiazmd',\n",
       " 'GOrtizGlez',\n",
       " 'JloeraJuan',\n",
       " 'AlfredoLozoyaMX',\n",
       " 'Mely_Romero',\n",
       " 'AuroraCruz09',\n",
       " 'virgili0Mendoza',\n",
       " 'leonciomoranL8',\n",
       " 'indira_vizcaino',\n",
       " 'ClaudiaYanezCen',\n",
       " 'irmaliliagarzon',\n",
       " 'Mario_M_Arcos',\n",
       " 'Zavaleta_Ruth',\n",
       " 'ManuelNegreteSI',\n",
       " 'CarlosHerreraSi',\n",
       " 'Magana_DeLaMora',\n",
       " 'MercedesCG_',\n",
       " 'HipolitoMoraMX',\n",
       " 'CristobalAriaSo',\n",
       " 'dipglorianunez',\n",
       " 'nataliarojasin',\n",
       " 'nayarmayorquinc',\n",
       " 'FerLarrazabalNL',\n",
       " 'AdrianDeLaGarza',\n",
       " 'claraluzflores',\n",
       " 'samuel_garcias',\n",
       " 'carolinagarzaNL',\n",
       " 'daney_siller',\n",
       " 'JaquesRivera',\n",
       " 'makugo',\n",
       " 'AbiArredondo',\n",
       " 'RaquelRuizdeSa1',\n",
       " 'KatiaReja',\n",
       " 'BetyLeon_',\n",
       " 'CeliaMayaGar',\n",
       " 'miguelnava_',\n",
       " 'jcmoficial1',\n",
       " 'octaviopedroza',\n",
       " 'RGC_Mx',\n",
       " 'MarvelyCostanzo',\n",
       " 'ProfeRicoGober',\n",
       " 'MonicaRangelSLP',\n",
       " 'AdrianEsperSLP',\n",
       " 'eltecmol',\n",
       " 'asegovianomx',\n",
       " 'MarioZamoraG',\n",
       " 'GloriaGlezMx',\n",
       " 'SergioTorresSIN',\n",
       " 'rochamoya_',\n",
       " 'GobRicardoMS',\n",
       " 'EGandaraC',\n",
       " 'r_rbc',\n",
       " 'cezgo77',\n",
       " 'TemoGalindo',\n",
       " 'roblesroblesfxm',\n",
       " 'AnabelAvalosTlx',\n",
       " 'LorenaCuellar',\n",
       " 'ErendiraJM',\n",
       " 'LiliBecerrilR',\n",
       " 'JCSanchezSAGA',\n",
       " 'VivianaBarbosaB',\n",
       " 'ClaudiAnaya',\n",
       " 'DavidMonrealA',\n",
       " 'NanyRomoF',\n",
       " 'FlavioCamposMi1',\n",
       " 'MariaPadillaRom',\n",
       " 'salomeperera',\n",
       " 'Jorgina_Gaxiola',\n",
       " 'LeslieStainesF',\n",
       " 'ConnieAlavezL',\n",
       " 'vidallerenas',\n",
       " 'LuisaAlpizarC',\n",
       " 'margaretSaldana',\n",
       " 'corralcdmx',\n",
       " 'Rocordera',\n",
       " 'STaboadaMx',\n",
       " 'IvonneTheresa',\n",
       " 'PaulaSoto',\n",
       " 'Araceli95186993',\n",
       " 'Cynth_Barrios',\n",
       " 'PatyUa',\n",
       " 'GerardoCoyoacan',\n",
       " 'CCastilloPerez1']"
      ]
     },
     "metadata": {},
     "execution_count": 157
    }
   ],
   "source": [
    "grupos_de_usuarios[0]"
   ]
  },
  {
   "source": [
    "Realicemos una petición a la API de twitter con este primer elemento, 100 usuarios, para entender que es lo que recibimos:"
   ],
   "cell_type": "markdown",
   "metadata": {}
  },
  {
   "cell_type": "code",
   "execution_count": 158,
   "metadata": {},
   "outputs": [],
   "source": [
    "parametros = crear_parametros(grupos_de_usuarios[0],expansions,tweet_fields,user_fields)\n",
    "rtw = requests.request(\"GET\", user_url, headers=twitter_header, params=parametros)"
   ]
  },
  {
   "cell_type": "code",
   "execution_count": 159,
   "metadata": {},
   "outputs": [
    {
     "output_type": "stream",
     "name": "stdout",
     "text": [
      "200\n"
     ]
    }
   ],
   "source": [
    "print(rtw.status_code)"
   ]
  },
  {
   "source": [
    "De igual manera que en la petición anterior nuestra respuesta tiene 2 campos, 'data' e 'includes' y además ahora se agrega un tercer campo llamado 'errors' en donde se reportan los errores que encontró la petición"
   ],
   "cell_type": "markdown",
   "metadata": {}
  },
  {
   "cell_type": "code",
   "execution_count": 160,
   "metadata": {},
   "outputs": [
    {
     "output_type": "execute_result",
     "data": {
      "text/plain": [
       "dict_keys(['data', 'includes', 'errors'])"
      ]
     },
     "metadata": {},
     "execution_count": 160
    }
   ],
   "source": [
    "rtw.json().keys()"
   ]
  },
  {
   "source": [
    "Primero exploremos 'data'. Encontraremos que es una lista, que además tiene 98 elementos. Cada uno de estos elementos contiene información de uno de los 100 nombres de usuario que pasamos a nuestra petición."
   ],
   "cell_type": "markdown",
   "metadata": {}
  },
  {
   "cell_type": "code",
   "execution_count": 161,
   "metadata": {},
   "outputs": [
    {
     "output_type": "execute_result",
     "data": {
      "text/plain": [
       "list"
      ]
     },
     "metadata": {},
     "execution_count": 161
    }
   ],
   "source": [
    "type(rtw.json()['data'])"
   ]
  },
  {
   "cell_type": "code",
   "execution_count": 162,
   "metadata": {},
   "outputs": [
    {
     "output_type": "execute_result",
     "data": {
      "text/plain": [
       "98"
      ]
     },
     "metadata": {},
     "execution_count": 162
    }
   ],
   "source": [
    "len(rtw.json()['data'])"
   ]
  },
  {
   "cell_type": "code",
   "execution_count": 163,
   "metadata": {},
   "outputs": [
    {
     "output_type": "execute_result",
     "data": {
      "text/plain": [
       "{'username': 'LupJonesof',\n",
       " 'protected': False,\n",
       " 'description': 'Orgullosa cachanilla, candidata  a la gubernatura de Baja California por la coalición “Va por Baja California”.',\n",
       " 'created_at': '2010-02-05T01:27:17.000Z',\n",
       " 'name': 'Lupita Jones',\n",
       " 'url': '',\n",
       " 'profile_image_url': 'https://pbs.twimg.com/profile_images/1378604052532101120/nKkwP19z_normal.jpg',\n",
       " 'verified': True,\n",
       " 'pinned_tweet_id': '1384017997635809281',\n",
       " 'id': '111468543',\n",
       " 'public_metrics': {'followers_count': 160978,\n",
       "  'following_count': 292,\n",
       "  'tweet_count': 21818,\n",
       "  'listed_count': 338}}"
      ]
     },
     "metadata": {},
     "execution_count": 163
    }
   ],
   "source": [
    "rtw.json()['data'][1]"
   ]
  },
  {
   "source": [
    "Exploremos ahora el campo 'includes'. Encontraremos que es un dict, que tiene un solo campo llamado 'tweets' el cual almacena una lista, esta lista tiene 48 elementos y cada uno de estos elementos es la información de un tweet que está pinneado en alguna de las cuentas de los 100 usuarios que pasamos a nuestra petición."
   ],
   "cell_type": "markdown",
   "metadata": {}
  },
  {
   "cell_type": "code",
   "execution_count": 164,
   "metadata": {},
   "outputs": [
    {
     "output_type": "execute_result",
     "data": {
      "text/plain": [
       "dict"
      ]
     },
     "metadata": {},
     "execution_count": 164
    }
   ],
   "source": [
    "type(rtw.json()['includes'])"
   ]
  },
  {
   "cell_type": "code",
   "execution_count": 165,
   "metadata": {},
   "outputs": [
    {
     "output_type": "execute_result",
     "data": {
      "text/plain": [
       "dict_keys(['tweets'])"
      ]
     },
     "metadata": {},
     "execution_count": 165
    }
   ],
   "source": [
    "rtw.json()['includes'].keys()"
   ]
  },
  {
   "cell_type": "code",
   "execution_count": 166,
   "metadata": {},
   "outputs": [
    {
     "output_type": "execute_result",
     "data": {
      "text/plain": [
       "list"
      ]
     },
     "metadata": {},
     "execution_count": 166
    }
   ],
   "source": [
    "type(rtw.json()['includes']['tweets'])"
   ]
  },
  {
   "cell_type": "code",
   "execution_count": 167,
   "metadata": {},
   "outputs": [
    {
     "output_type": "execute_result",
     "data": {
      "text/plain": [
       "48"
      ]
     },
     "metadata": {},
     "execution_count": 167
    }
   ],
   "source": [
    "len(rtw.json()['includes']['tweets'])"
   ]
  },
  {
   "cell_type": "code",
   "execution_count": 168,
   "metadata": {},
   "outputs": [
    {
     "output_type": "execute_result",
     "data": {
      "text/plain": [
       "{'id': '1384017997635809281',\n",
       " 'entities': {'hashtags': [{'start': 240, 'end': 253, 'tag': 'EstadoModelo'},\n",
       "   {'start': 255, 'end': 264, 'tag': 'BCVota21'},\n",
       "   {'start': 265, 'end': 279, 'tag': 'DebatesBC2021'}],\n",
       "  'annotations': [{'start': 165,\n",
       "    'end': 172,\n",
       "    'probability': 0.9764,\n",
       "    'type': 'Place',\n",
       "    'normalized_text': 'Mexicali'}],\n",
       "  'urls': [{'start': 280,\n",
       "    'end': 303,\n",
       "    'url': 'https://t.co/RcRYs8sXqx',\n",
       "    'expanded_url': 'https://twitter.com/LupJonesof/status/1384017997635809281/video/1',\n",
       "    'display_url': 'pic.twitter.com/RcRYs8sXqx'}]},\n",
       " 'attachments': {'media_keys': ['7_1384017876823068687']},\n",
       " 'public_metrics': {'retweet_count': 112,\n",
       "  'reply_count': 166,\n",
       "  'like_count': 273,\n",
       "  'quote_count': 10},\n",
       " 'conversation_id': '1384017997635809281',\n",
       " 'created_at': '2021-04-19T05:36:19.000Z',\n",
       " 'reply_settings': 'everyone',\n",
       " 'text': 'El próximo 6 de junio tienes 3 opciones: votar por un candidato que no sabemos si tiene buenas o malas intenciones, elegir a una candidata que dejó en el abandono a Mexicali; o votar por mí, una ciudadana que, de tu mano, va a construir un #EstadoModelo. #BCVota21 #DebatesBC2021 https://t.co/RcRYs8sXqx',\n",
       " 'lang': 'es',\n",
       " 'possibly_sensitive': False,\n",
       " 'source': 'Twitter for iPhone',\n",
       " 'author_id': '111468543'}"
      ]
     },
     "metadata": {},
     "execution_count": 168
    }
   ],
   "source": [
    "rtw.json()['includes']['tweets'][0]"
   ]
  },
  {
   "source": [
    "Por último exploremos el campo 'errors'. Podemos ver que contiene una lista con 6 elementos. Cada uno de estos elementos es un error que la API de twitter reporta al tratar de satisfacer nuestra petición, en específico podemos ver dos tipos de errores:\n",
    "- Could not find user with usernames\n",
    "- Could not find tweet with pinned_tweet_id\n",
    "\n",
    "Ambos corresponden a errores en los cuales la API no pudo encontrar el recurso que solicitamos."
   ],
   "cell_type": "markdown",
   "metadata": {}
  },
  {
   "cell_type": "code",
   "execution_count": 169,
   "metadata": {},
   "outputs": [
    {
     "output_type": "execute_result",
     "data": {
      "text/plain": [
       "list"
      ]
     },
     "metadata": {},
     "execution_count": 169
    }
   ],
   "source": [
    "type(rtw.json()['errors'])"
   ]
  },
  {
   "cell_type": "code",
   "execution_count": 170,
   "metadata": {},
   "outputs": [
    {
     "output_type": "execute_result",
     "data": {
      "text/plain": [
       "6"
      ]
     },
     "metadata": {},
     "execution_count": 170
    }
   ],
   "source": [
    "len(rtw.json()['errors'])"
   ]
  },
  {
   "cell_type": "code",
   "execution_count": 171,
   "metadata": {},
   "outputs": [
    {
     "output_type": "execute_result",
     "data": {
      "text/plain": [
       "[{'value': 'jArmidaCastro',\n",
       "  'detail': 'Could not find user with usernames: [jArmidaCastro].',\n",
       "  'title': 'Not Found Error',\n",
       "  'resource_type': 'user',\n",
       "  'parameter': 'usernames',\n",
       "  'resource_id': 'jArmidaCastro',\n",
       "  'type': 'https://api.twitter.com/2/problems/resource-not-found'},\n",
       " {'value': '1391873804792745988',\n",
       "  'detail': 'Could not find tweet with pinned_tweet_id: [1391873804792745988].',\n",
       "  'title': 'Not Found Error',\n",
       "  'resource_type': 'tweet',\n",
       "  'parameter': 'pinned_tweet_id',\n",
       "  'resource_id': '1391873804792745988',\n",
       "  'type': 'https://api.twitter.com/2/problems/resource-not-found'},\n",
       " {'value': '1389990163153973251',\n",
       "  'detail': 'Could not find tweet with pinned_tweet_id: [1389990163153973251].',\n",
       "  'title': 'Not Found Error',\n",
       "  'resource_type': 'tweet',\n",
       "  'parameter': 'pinned_tweet_id',\n",
       "  'resource_id': '1389990163153973251',\n",
       "  'type': 'https://api.twitter.com/2/problems/resource-not-found'},\n",
       " {'value': '1375236756220612608',\n",
       "  'detail': 'Could not find tweet with pinned_tweet_id: [1375236756220612608].',\n",
       "  'title': 'Not Found Error',\n",
       "  'resource_type': 'tweet',\n",
       "  'parameter': 'pinned_tweet_id',\n",
       "  'resource_id': '1375236756220612608',\n",
       "  'type': 'https://api.twitter.com/2/problems/resource-not-found'},\n",
       " {'value': '1341176110151659521',\n",
       "  'detail': 'Could not find tweet with pinned_tweet_id: [1341176110151659521].',\n",
       "  'title': 'Not Found Error',\n",
       "  'resource_type': 'tweet',\n",
       "  'parameter': 'pinned_tweet_id',\n",
       "  'resource_id': '1341176110151659521',\n",
       "  'type': 'https://api.twitter.com/2/problems/resource-not-found'},\n",
       " {'value': 'Araceli95186993',\n",
       "  'detail': 'Could not find user with usernames: [Araceli95186993].',\n",
       "  'title': 'Not Found Error',\n",
       "  'resource_type': 'user',\n",
       "  'parameter': 'usernames',\n",
       "  'resource_id': 'Araceli95186993',\n",
       "  'type': 'https://api.twitter.com/2/problems/resource-not-found'}]"
      ]
     },
     "metadata": {},
     "execution_count": 171
    }
   ],
   "source": [
    "rtw.json()['errors']"
   ]
  },
  {
   "source": [
    "Ahora necesitamos amarrar la información de los usuarios de twitter obtenida con la información de los tweets pinneados y con la información del id de la persona en la API electoral. Para poder asociar a un usuario un tweet pineado necesitamos ver si en la info del usuario existe el campo 'pinned_tweet_id' y si existe entonces ir a buscar ese registro en los tweets recuperados. Para asociar a un usuario de twitter con su id en la API electoral necesitamos usar el nombre de usuario y buscar en 'personas_en_twitter' un elemento con ese username. Haremos una función que dada la info de un usuario de twitter, la lista de tweets y la lista de personas en la API electoral con cuenta de twitter amarre lo que tenga que amarrar y regrese un dict con toda la info recolectada. La estrategía es similar a lo usado anteriormente, filtraremos las listas a aquellos elementos que satisfagan la condición impuesta."
   ],
   "cell_type": "markdown",
   "metadata": {}
  },
  {
   "cell_type": "code",
   "execution_count": 172,
   "metadata": {},
   "outputs": [],
   "source": [
    "def agrupar_informacion(usuario,tweets,personas_en_twitter):\n",
    "    info = {'info_usuario':usuario}\n",
    "    pinned_tweet = usuario.get('pinned_tweet_id')\n",
    "    username = usuario.get('username')\n",
    "    if pinned_tweet is not None:\n",
    "        tweet = list(filter(lambda x: x['id'] == pinned_tweet, tweets))\n",
    "        if len(tweet) != 0:\n",
    "            info['pinned_tweet_info'] = tweet[0]\n",
    "    if username is not None:\n",
    "        persona = list(filter(lambda x: x['twitter_username'] == username, personas_en_twitter))\n",
    "        if len(persona) != 0:\n",
    "            info['persona_id'] = persona[0]['id']\n",
    "    return info"
   ]
  },
  {
   "source": [
    "Probemos nuestra función, chequemos que regrese un dict y que este tenga las llaves que nos interesan con la info correcta"
   ],
   "cell_type": "markdown",
   "metadata": {}
  },
  {
   "cell_type": "code",
   "execution_count": 173,
   "metadata": {},
   "outputs": [
    {
     "output_type": "execute_result",
     "data": {
      "text/plain": [
       "dict_keys(['info_usuario', 'pinned_tweet_info', 'persona_id'])"
      ]
     },
     "metadata": {},
     "execution_count": 173
    }
   ],
   "source": [
    "usuarios = rtw.json()['data']\n",
    "tweets = rtw.json()['includes']['tweets']\n",
    "\n",
    "salida = agrupar_informacion(usuarios[1],tweets,personas_en_twitter)\n",
    "salida.keys()"
   ]
  },
  {
   "source": [
    "salida['info_usuario']"
   ],
   "cell_type": "code",
   "metadata": {},
   "execution_count": 174,
   "outputs": [
    {
     "output_type": "execute_result",
     "data": {
      "text/plain": [
       "{'username': 'LupJonesof',\n",
       " 'protected': False,\n",
       " 'description': 'Orgullosa cachanilla, candidata  a la gubernatura de Baja California por la coalición “Va por Baja California”.',\n",
       " 'created_at': '2010-02-05T01:27:17.000Z',\n",
       " 'name': 'Lupita Jones',\n",
       " 'url': '',\n",
       " 'profile_image_url': 'https://pbs.twimg.com/profile_images/1378604052532101120/nKkwP19z_normal.jpg',\n",
       " 'verified': True,\n",
       " 'pinned_tweet_id': '1384017997635809281',\n",
       " 'id': '111468543',\n",
       " 'public_metrics': {'followers_count': 160978,\n",
       "  'following_count': 292,\n",
       "  'tweet_count': 21818,\n",
       "  'listed_count': 338}}"
      ]
     },
     "metadata": {},
     "execution_count": 174
    }
   ]
  },
  {
   "cell_type": "code",
   "execution_count": 175,
   "metadata": {},
   "outputs": [
    {
     "output_type": "execute_result",
     "data": {
      "text/plain": [
       "{'id': '1384017997635809281',\n",
       " 'entities': {'hashtags': [{'start': 240, 'end': 253, 'tag': 'EstadoModelo'},\n",
       "   {'start': 255, 'end': 264, 'tag': 'BCVota21'},\n",
       "   {'start': 265, 'end': 279, 'tag': 'DebatesBC2021'}],\n",
       "  'annotations': [{'start': 165,\n",
       "    'end': 172,\n",
       "    'probability': 0.9764,\n",
       "    'type': 'Place',\n",
       "    'normalized_text': 'Mexicali'}],\n",
       "  'urls': [{'start': 280,\n",
       "    'end': 303,\n",
       "    'url': 'https://t.co/RcRYs8sXqx',\n",
       "    'expanded_url': 'https://twitter.com/LupJonesof/status/1384017997635809281/video/1',\n",
       "    'display_url': 'pic.twitter.com/RcRYs8sXqx'}]},\n",
       " 'attachments': {'media_keys': ['7_1384017876823068687']},\n",
       " 'public_metrics': {'retweet_count': 112,\n",
       "  'reply_count': 166,\n",
       "  'like_count': 273,\n",
       "  'quote_count': 10},\n",
       " 'conversation_id': '1384017997635809281',\n",
       " 'created_at': '2021-04-19T05:36:19.000Z',\n",
       " 'reply_settings': 'everyone',\n",
       " 'text': 'El próximo 6 de junio tienes 3 opciones: votar por un candidato que no sabemos si tiene buenas o malas intenciones, elegir a una candidata que dejó en el abandono a Mexicali; o votar por mí, una ciudadana que, de tu mano, va a construir un #EstadoModelo. #BCVota21 #DebatesBC2021 https://t.co/RcRYs8sXqx',\n",
       " 'lang': 'es',\n",
       " 'possibly_sensitive': False,\n",
       " 'source': 'Twitter for iPhone',\n",
       " 'author_id': '111468543'}"
      ]
     },
     "metadata": {},
     "execution_count": 175
    }
   ],
   "source": [
    "salida['pinned_tweet_info']"
   ]
  },
  {
   "cell_type": "code",
   "execution_count": 176,
   "metadata": {},
   "outputs": [
    {
     "output_type": "execute_result",
     "data": {
      "text/plain": [
       "3"
      ]
     },
     "metadata": {},
     "execution_count": 176
    }
   ],
   "source": [
    "salida['persona_id']"
   ]
  },
  {
   "source": [
    "Ahora podemos iterar esta función sobre todos los usuarios recolectados en nuestra petición y así estructurar la info que deseamos para cada usuario. Esta info la guardaremos en una lista"
   ],
   "cell_type": "markdown",
   "metadata": {}
  },
  {
   "cell_type": "code",
   "execution_count": 177,
   "metadata": {},
   "outputs": [],
   "source": [
    "usuarios = rtw.json()['data']\n",
    "tweets = rtw.json()['includes']['tweets']\n",
    "\n",
    "info_usuarios = []\n",
    "for usuario in usuarios:\n",
    "    info = agrupar_informacion(usuario,tweets,personas_en_twitter)\n",
    "    info_usuarios.append(info)"
   ]
  },
  {
   "source": [
    "Esta lista contiene la información recabada de las personas que se pudieron encontrar en twitter. 98 usuarios, 98 elementos."
   ],
   "cell_type": "markdown",
   "metadata": {}
  },
  {
   "cell_type": "code",
   "execution_count": 178,
   "metadata": {},
   "outputs": [
    {
     "output_type": "execute_result",
     "data": {
      "text/plain": [
       "98"
      ]
     },
     "metadata": {},
     "execution_count": 178
    }
   ],
   "source": [
    "len(info_usuarios)"
   ]
  },
  {
   "cell_type": "code",
   "execution_count": 179,
   "metadata": {},
   "outputs": [
    {
     "output_type": "execute_result",
     "data": {
      "text/plain": [
       "{'info_usuario': {'username': 'MarinadelPilar',\n",
       "  'protected': False,\n",
       "  'description': 'Mamá, esposa, bajacaliforniana y candidata a Gobernadora de mi Estado ¡Sigamos Haciendo Historia!',\n",
       "  'location': 'Mexicali, Baja California',\n",
       "  'created_at': '2009-09-26T04:21:36.000Z',\n",
       "  'name': 'Marina del Pilar',\n",
       "  'url': '',\n",
       "  'profile_image_url': 'https://pbs.twimg.com/profile_images/1392903768329449472/rajxmnFI_normal.jpg',\n",
       "  'verified': True,\n",
       "  'id': '77395093',\n",
       "  'public_metrics': {'followers_count': 5675,\n",
       "   'following_count': 467,\n",
       "   'tweet_count': 952,\n",
       "   'listed_count': 62}},\n",
       " 'persona_id': 1}"
      ]
     },
     "metadata": {},
     "execution_count": 179
    }
   ],
   "source": [
    "info_usuarios[0]"
   ]
  },
  {
   "source": [
    "Por último podemos iterar la petición de info y el procesado de información en todos los grupos de usuarios que construimos previamente:"
   ],
   "cell_type": "markdown",
   "metadata": {}
  },
  {
   "cell_type": "code",
   "execution_count": 181,
   "metadata": {},
   "outputs": [
    {
     "output_type": "stream",
     "name": "stdout",
     "text": [
      "0 200\n",
      "1 200\n",
      "2 200\n",
      "3 200\n",
      "4 200\n",
      "5 200\n",
      "6 400\n",
      "7 200\n",
      "8 200\n",
      "9 200\n",
      "10 200\n"
     ]
    }
   ],
   "source": [
    "info_usuarios = []\n",
    "\n",
    "for grupo_indice,grupo in enumerate(grupos_de_usuarios):\n",
    "    parametros = crear_parametros(grupo,expansions,tweet_fields,user_fields)\n",
    "    rtw = requests.request(\"GET\", user_url, headers=twitter_header, params=parametros)\n",
    "    print(grupo_indice,rtw.status_code)\n",
    "    if rtw.status_code == 200:\n",
    "        usuarios = rtw.json()['data']\n",
    "        tweets = rtw.json()['includes']['tweets']\n",
    "\n",
    "        for usuario in usuarios:\n",
    "            info = agrupar_informacion(usuario,tweets,personas_en_twitter)\n",
    "            info_usuarios.append(info)"
   ]
  },
  {
   "source": [
    "Como podemos observar todas nuestras peticiones salieron bien excepto la petición para el grupo 6, volvamos a realizar esta petición y veamos que sucedió:"
   ],
   "cell_type": "markdown",
   "metadata": {}
  },
  {
   "cell_type": "code",
   "execution_count": 182,
   "metadata": {},
   "outputs": [],
   "source": [
    "parametros = crear_parametros(grupos_de_usuarios[6],expansions,tweet_fields,user_fields)\n",
    "rtw = requests.request(\"GET\", user_url, headers=twitter_header, params=parametros)"
   ]
  },
  {
   "cell_type": "code",
   "execution_count": 183,
   "metadata": {},
   "outputs": [
    {
     "output_type": "execute_result",
     "data": {
      "text/plain": [
       "400"
      ]
     },
     "metadata": {},
     "execution_count": 183
    }
   ],
   "source": [
    "rtw.status_code"
   ]
  },
  {
   "source": [
    "Exploremos que viene en la petición. El dict regresado tiene 4 campos, 'errors', 'title', 'detail' y 'type'. Veamoslos uno por uno:"
   ],
   "cell_type": "markdown",
   "metadata": {}
  },
  {
   "cell_type": "code",
   "execution_count": 188,
   "metadata": {},
   "outputs": [
    {
     "output_type": "execute_result",
     "data": {
      "text/plain": [
       "dict_keys(['errors', 'title', 'detail', 'type'])"
      ]
     },
     "metadata": {},
     "execution_count": 188
    }
   ],
   "source": [
    "rtw.json().keys()"
   ]
  },
  {
   "cell_type": "code",
   "execution_count": 189,
   "metadata": {},
   "outputs": [
    {
     "output_type": "execute_result",
     "data": {
      "text/plain": [
       "[{'parameters': {'usernames': ['soymauprieto,octavioocampo21,godinez_enrique,berejuarezn,adriana_camposh,laloorihuela_,EdnaDiazMx,CQuintanaMtz,MacarenaChavezM,PacoHuacus,LaraNadiaLuz,ArquiAlbarranc,VeronicaMtzV05,AlejandraPani1,_BrendaEspinoza,luciosantanaz,JulietaMejia,JasminBugarin,camiloramirez,Poblette_Mejia,ThelmaCoraGarza,hugo_leivar,dralilygarciaNL,JesusMarioGarza,mirbeht,RudyMartinezSoy,JudithGraceNL,licmiltongarza,robertosalinasp,abuelocruz14,JOSEHECTORSAN13,DavidToache,SoffyWood,ismaelguerrapa4,ClauHerediaMx,afierro749,guillealvaradom,SaaantiagoGzzs,Yarely_vera1,paolagzzcas,AndresCantuRmz,MarcelaGuerraNLL,raul_alcala,esperanzaliciar,arturo_carmona,joseluisgarza8a,JacobReynaGal,rociomontalvoad,dantepaeznl,GloriaMuiz14,alberto11551575,karlitacarrasco,Yola_MartinezL,angelandariego1,CarolAntonioA,HitaOrtiz1,yas_ramirez_lop,RaquelZapoteca,CONCEPC25666044,irmajuancarlos,DanielGtz_Oax,CesarTL,arleneriveraes1,antonioamaroc,SofiaCastroRios,liborioH_Miriam,Chepi_Org,pepeestefang,BenjaminRoblesM,carmenbautistaz,MONSEGU53815001,LizaAceves1,CeliaOrtuno,RechyAnabel,CiudadanoChingn,agustindteresa,reynalastrapue,soyherrerabeto,MagdalenoRosPr1,gabyescobardelr,almadelia_gf,OmardelaRosaS,ReneLunaHernand,NarcisoCazares,Gabyrojas_PES,RuthLilianaMor3,MachorroAlcala,jessjimenez3,rendonisauro,ValeriaMorenoP8,EstefaniaGavito,Christopher11RC,pedroantoniobre,JuanFlores_M,LindaTReina,JosefinaGHof,ArmandoGA26,_CarlosAMorales,xitlalicceja,JesusMoralesRdz']},\n",
       "  'message': 'The `usernames` query parameter value [MarcelaGuerraNLL] does not match ^[A-Za-z0-9_]{1,15}$'}]"
      ]
     },
     "metadata": {},
     "execution_count": 189
    }
   ],
   "source": [
    "rtw.json()['errors']"
   ]
  },
  {
   "cell_type": "code",
   "execution_count": 191,
   "metadata": {},
   "outputs": [
    {
     "output_type": "execute_result",
     "data": {
      "text/plain": [
       "'Invalid Request'"
      ]
     },
     "metadata": {},
     "execution_count": 191
    }
   ],
   "source": [
    "rtw.json()['title']"
   ]
  },
  {
   "cell_type": "code",
   "execution_count": 192,
   "metadata": {},
   "outputs": [
    {
     "output_type": "execute_result",
     "data": {
      "text/plain": [
       "'One or more parameters to your request was invalid.'"
      ]
     },
     "metadata": {},
     "execution_count": 192
    }
   ],
   "source": [
    "rtw.json()['detail']"
   ]
  },
  {
   "cell_type": "code",
   "execution_count": 193,
   "metadata": {},
   "outputs": [
    {
     "output_type": "execute_result",
     "data": {
      "text/plain": [
       "'https://api.twitter.com/2/problems/invalid-request'"
      ]
     },
     "metadata": {},
     "execution_count": 193
    }
   ],
   "source": [
    "rtw.json()['type']"
   ]
  },
  {
   "source": [
    "En el campo 'message' de cada elemento en el campo 'errors' podemos ver cual es el problema"
   ],
   "cell_type": "markdown",
   "metadata": {}
  },
  {
   "cell_type": "code",
   "execution_count": 199,
   "metadata": {},
   "outputs": [
    {
     "output_type": "execute_result",
     "data": {
      "text/plain": [
       "'The `usernames` query parameter value [MarcelaGuerraNLL] does not match ^[A-Za-z0-9_]{1,15}$'"
      ]
     },
     "metadata": {},
     "execution_count": 199
    }
   ],
   "source": [
    "rtw.json()['errors'][0]['message']"
   ]
  },
  {
   "source": [
    "El nombre de usuario 'MarcelaGuerraNLL' no satisface el formato de peticiones de la API. Una manera simple de resolverlo es eliminandolo del grupo de usuarios"
   ],
   "cell_type": "markdown",
   "metadata": {}
  },
  {
   "cell_type": "code",
   "execution_count": 201,
   "metadata": {},
   "outputs": [],
   "source": [
    "grupos_de_usuarios[6].remove('MarcelaGuerraNLL')"
   ]
  },
  {
   "source": [
    "Después de removerlo podemos repetir la petición"
   ],
   "cell_type": "markdown",
   "metadata": {}
  },
  {
   "cell_type": "code",
   "execution_count": 203,
   "metadata": {},
   "outputs": [],
   "source": [
    "parametros = crear_parametros(grupos_de_usuarios[6],expansions,tweet_fields,user_fields)\n",
    "rtw = requests.request(\"GET\", user_url, headers=twitter_header, params=parametros)"
   ]
  },
  {
   "cell_type": "code",
   "execution_count": 204,
   "metadata": {},
   "outputs": [
    {
     "output_type": "execute_result",
     "data": {
      "text/plain": [
       "200"
      ]
     },
     "metadata": {},
     "execution_count": 204
    }
   ],
   "source": [
    "rtw.status_code"
   ]
  },
  {
   "source": [
    "La petición ha sido respondida satisfactoriamente, ahora podemos procesar los datos obtenidos y agregarlos a nuestra lista de datos procesados 'info_usuarios'"
   ],
   "cell_type": "markdown",
   "metadata": {}
  },
  {
   "cell_type": "code",
   "execution_count": 205,
   "metadata": {},
   "outputs": [],
   "source": [
    "usuarios = rtw.json()['data']\n",
    "tweets = rtw.json()['includes']['tweets']\n",
    "\n",
    "for usuario in usuarios:\n",
    "    info = agrupar_informacion(usuario,tweets,personas_en_twitter)\n",
    "    info_usuarios.append(info)"
   ]
  },
  {
   "source": [
    "Por último podemos explorar cuantos usuarios tenemos en nuestra lista 'info_usuarios'"
   ],
   "cell_type": "markdown",
   "metadata": {}
  },
  {
   "cell_type": "code",
   "execution_count": 206,
   "metadata": {},
   "outputs": [
    {
     "output_type": "execute_result",
     "data": {
      "text/plain": [
       "1067"
      ]
     },
     "metadata": {},
     "execution_count": 206
    }
   ],
   "source": [
    "len(info_usuarios)"
   ]
  },
  {
   "source": [
    "Y exportarlo a un archivo de salida:"
   ],
   "cell_type": "markdown",
   "metadata": {}
  },
  {
   "cell_type": "code",
   "execution_count": 207,
   "metadata": {},
   "outputs": [],
   "source": [
    "with open('./datos_usuarios_twitter.json', 'w') as outfile:\n",
    "    json.dump(info_usuarios, outfile, indent=4, sort_keys=True)"
   ]
  },
  {
   "cell_type": "code",
   "execution_count": null,
   "metadata": {},
   "outputs": [],
   "source": []
  }
 ]
}